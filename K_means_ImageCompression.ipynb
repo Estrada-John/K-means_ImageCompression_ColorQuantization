{
  "nbformat": 4,
  "nbformat_minor": 0,
  "metadata": {
    "colab": {
      "name": "K-means_ImageCompression.ipynb",
      "provenance": [],
      "collapsed_sections": [],
      "authorship_tag": "ABX9TyNWEtKk4bFCOgoNFQt2HbgC",
      "include_colab_link": true
    },
    "kernelspec": {
      "name": "python3",
      "display_name": "Python 3"
    }
  },
  "cells": [
    {
      "cell_type": "markdown",
      "metadata": {
        "id": "view-in-github",
        "colab_type": "text"
      },
      "source": [
        "<a href=\"https://colab.research.google.com/github/Estrada-John/K-means_ImageCompression_ColorQuantization/blob/master/K_means_ImageCompression.ipynb\" target=\"_parent\"><img src=\"https://colab.research.google.com/assets/colab-badge.svg\" alt=\"Open In Colab\"/></a>"
      ]
    },
    {
      "cell_type": "markdown",
      "metadata": {
        "id": "M0Vx5hOYptnq",
        "colab_type": "text"
      },
      "source": [
        "# Homework #5"
      ]
    },
    {
      "cell_type": "code",
      "metadata": {
        "id": "DBfbv_Ngj7Mo",
        "colab_type": "code",
        "colab": {}
      },
      "source": [
        "# Libraries\n",
        "from PIL import Image\n",
        "import numpy as np"
      ],
      "execution_count": 0,
      "outputs": []
    },
    {
      "cell_type": "markdown",
      "metadata": {
        "id": "IiQbkNmrpoVD",
        "colab_type": "text"
      },
      "source": [
        "### Data Upload\n",
        "Picture store it in a 3D array"
      ]
    },
    {
      "cell_type": "code",
      "metadata": {
        "id": "H-8tINY9pcb3",
        "colab_type": "code",
        "outputId": "46b0e408-87f5-43b1-e59d-fffb1746d711",
        "colab": {
          "base_uri": "https://localhost:8080/",
          "height": 85
        }
      },
      "source": [
        "from google.colab import drive \n",
        "drive.mount('/content/gdrive')\n",
        "\n",
        "im = np.array(Image.open('gdrive/My Drive/Colab Notebooks/Machine Learning/k_means_parrot.jpg'))\n",
        "\n",
        "print('Data Type: ', im.dtype)\n",
        "print(\"Array Dimension: \", im.ndim)\n",
        "print('Array Size: ', im.shape)"
      ],
      "execution_count": 0,
      "outputs": [
        {
          "output_type": "stream",
          "text": [
            "Drive already mounted at /content/gdrive; to attempt to forcibly remount, call drive.mount(\"/content/gdrive\", force_remount=True).\n",
            "Data Type:  uint8\n",
            "Array Dimension:  3\n",
            "Array Size:  (400, 500, 3)\n"
          ],
          "name": "stdout"
        }
      ]
    },
    {
      "cell_type": "markdown",
      "metadata": {
        "id": "HxgUSUeWbt4T",
        "colab_type": "text"
      },
      "source": [
        "### Initialize Centroids\n",
        "function: initCentroids \n",
        "\n",
        "Take the the picture previously save it in a 3D array an the K number of clusters\n",
        "\n",
        ">Parameters:\n",
        "1. img: 3D Array\n",
        "2. clusters: int\n",
        "\n",
        ">Return:\n",
        "1. Image in a 2D array with size (l * m, n)\n",
        "2. Initial K Random clusters from 2D array \n",
        " \n",
        "Notes:\n",
        "\n",
        "- clusters is the number of colors that we choose.\n",
        "\n",
        "- Transform 3D array in 2D\n",
        "> - In the general case of a (l, m, n) ndarray: \n",
        "> - numpy.reshape(a, (l*m, n)) should be used."
      ]
    },
    {
      "cell_type": "code",
      "metadata": {
        "id": "iVxUh89tp0-4",
        "colab_type": "code",
        "colab": {}
      },
      "source": [
        "def initCentroids(img, clusters): \n",
        "    # Reshaping 3D matrix to a 2d matrix \n",
        "    matrix2D = np.reshape(img, (img.shape[0] * img.shape[1], img.shape[2]))  \n",
        "    m, n = matrix2D.shape \n",
        "\n",
        "    # Calculating centroids as a means variable  \n",
        "    means = np.zeros((clusters, n))  \n",
        "    # Random initialization of means. \n",
        "    for i in range(clusters): \n",
        "        # Multiplication randon factor 10 & 8\n",
        "        # Do not get repeated numbers \n",
        "        rand1 = int(np.random.random(1)*10) \n",
        "        rand2 = int(np.random.random(1)*8) \n",
        "        means[i, 0] = matrix2D[rand1, 0] \n",
        "        means[i, 1] = matrix2D[rand2, 1] \n",
        "    return matrix2D, means "
      ],
      "execution_count": 0,
      "outputs": []
    },
    {
      "cell_type": "markdown",
      "metadata": {
        "id": "HwKL3HThuFl4",
        "colab_type": "text"
      },
      "source": [
        "### Finding Closest Centroids\n",
        "function: closest Centroids\n",
        "\n",
        "Finding closest centroids by calculate the distance between the initial clusters points and every other new dpoint\n",
        "\n",
        ">Parameters:\n",
        "1. img: 3D Array\n",
        "2. clusters: int\n",
        "\n",
        ">Return:\n",
        "1. Image in a 2D array with size (l * m, n)\n",
        "2. Initial K Random clusters from 2D array \n",
        " \n",
        "Notes:\n",
        "\n",
        "- clusters is the number of colors that we choose.\n",
        "\n",
        "- Transform 3D array in 2D\n",
        "> - In the general case of a (l, m, n) ndarray: \n",
        "> - numpy.reshape(a, (l*m, n)) should be used.\n"
      ]
    },
    {
      "cell_type": "code",
      "metadata": {
        "id": "c1JXYIK8pmeX",
        "colab_type": "code",
        "colab": {}
      },
      "source": [
        "# https://hadrienj.github.io/posts/Deep-Learning-Book-Series-2.5-Norms/ --- linalg\n",
        "# https://www.educative.io/edpresso/what-is-the-nplinalgnorm-method-in-numpy\n",
        "\n",
        "# np.argmin\n",
        "#https://www.geeksforgeeks.org/numpy-argmin-python/\n",
        "def closestCentroids(img, centroids):\n",
        "    m = len(img)\n",
        "    # Create an array with number of total rows (m)\n",
        "    indexCentroid = np.zeros(m)\n",
        "    for i in range(m):\n",
        "        # Find eucl. distances for each element in X[i] - centroids[i]\n",
        "        distances = np.linalg.norm(img[i] - centroids, axis=1)\n",
        "        # Assign closest cluster to c[i]\n",
        "        indexCentroid[i] = np.argmin(distances)\n",
        "    return indexCentroid"
      ],
      "execution_count": 0,
      "outputs": []
    },
    {
      "cell_type": "code",
      "metadata": {
        "id": "nsTPo48LIPZZ",
        "colab_type": "code",
        "colab": {}
      },
      "source": [
        "def computeMeans(img, idx, clusters):\n",
        "    _, n = img.shape\n",
        "    centroids = np.zeros((clusters, n))\n",
        "    for k in range(clusters):\n",
        "        examples = img[np.where(idx == k)]\n",
        "        mean = [np.mean(column) for column in examples.T]\n",
        "        centroids[k] = mean\n",
        "    return centroids\n",
        "\n",
        "def find_k_means(X, K, max_iters=10):\n",
        "    x, centroids = initCentroids(X, K)\n",
        "    previous_centroids = centroids\n",
        "    for _ in range(max_iters):\n",
        "        idx = closestCentroids(x, centroids)\n",
        "        centroids = computeMeans(x, idx, K)\n",
        "        if (centroids == previous_centroids).all():\n",
        "            # The centroids aren't moving anymore.\n",
        "            return centroids\n",
        "        else:\n",
        "            previous_centroids = centroids\n",
        "\n",
        "    return centroids, idx"
      ],
      "execution_count": 0,
      "outputs": []
    },
    {
      "cell_type": "code",
      "metadata": {
        "id": "vWWLGtTQIFnq",
        "colab_type": "code",
        "outputId": "b9914330-6ea6-4128-97a2-d386534c8309",
        "colab": {
          "base_uri": "https://localhost:8080/",
          "height": 51
        }
      },
      "source": [
        "# Using getCentroids\n",
        "im2D, centroids = initCentroids(im, 4)\n",
        "print('Shape of img in 2D', im2D.shape)\n",
        "print('Shape of centroids', centroids.shape)"
      ],
      "execution_count": 0,
      "outputs": [
        {
          "output_type": "stream",
          "text": [
            "Shape of img in 2D (200000, 3)\n",
            "Shape of centroids (4, 3)\n"
          ],
          "name": "stdout"
        }
      ]
    },
    {
      "cell_type": "code",
      "metadata": {
        "id": "zPUZDkKcINhp",
        "colab_type": "code",
        "colab": {}
      },
      "source": [
        "colors, test = find_k_means(im, 4)"
      ],
      "execution_count": 0,
      "outputs": []
    },
    {
      "cell_type": "code",
      "metadata": {
        "id": "cLkNDX7PD_OT",
        "colab_type": "code",
        "outputId": "1feecddb-3f98-435e-d914-05773163a1e9",
        "colab": {
          "base_uri": "https://localhost:8080/",
          "height": 34
        }
      },
      "source": [
        "idx = closestCentroids(im2D, colors)\n",
        "idx.shape"
      ],
      "execution_count": 0,
      "outputs": [
        {
          "output_type": "execute_result",
          "data": {
            "text/plain": [
              "(200000,)"
            ]
          },
          "metadata": {
            "tags": []
          },
          "execution_count": 8
        }
      ]
    },
    {
      "cell_type": "code",
      "metadata": {
        "id": "ECuWwFAMKP67",
        "colab_type": "code",
        "colab": {}
      },
      "source": [
        "idx = np.array(idx, dtype=np.uint8)\n",
        "X_reconstructed = np.array(colors[idx, :] * 255, dtype=np.uint8).reshape((im.shape[0], im.shape[1], im.shape[2]))\n",
        "compressed_image = Image.fromarray(X_reconstructed)"
      ],
      "execution_count": 0,
      "outputs": []
    },
    {
      "cell_type": "code",
      "metadata": {
        "id": "fvAxb3iTMT2E",
        "colab_type": "code",
        "outputId": "a1d5c6af-c602-478a-a1c2-26711d664e5e",
        "colab": {
          "base_uri": "https://localhost:8080/",
          "height": 417
        }
      },
      "source": [
        "compressed_image\n"
      ],
      "execution_count": 0,
      "outputs": [
        {
          "output_type": "execute_result",
          "data": {
            "image/png": "[encoded data removed]",
            "text/plain": [
              "<PIL.Image.Image image mode=RGB size=500x400 at 0x7F29363CA668>"
            ]
          },
          "metadata": {
            "tags": []
          },
          "execution_count": 10
        }
      ]
    },
    {
      "cell_type": "code",
      "metadata": {
        "id": "b9Q6inY8Q1WL",
        "colab_type": "code",
        "colab": {}
      },
      "source": [
        "compressed_image.save('gdrive/My Drive/Colab Notebooks/Machine Learning/k-means_parrot_out.jpg')"
      ],
      "execution_count": 0,
      "outputs": []
    }
  ]
}