{
  "nbformat": 4,
  "nbformat_minor": 0,
  "metadata": {
    "colab": {
      "name": "K-means_ImageCompression.ipynb",
      "provenance": [],
      "collapsed_sections": [],
      "authorship_tag": "ABX9TyNy8kSGAY9Cz8+WukNFe+Qf",
      "include_colab_link": true
    },
    "kernelspec": {
      "name": "python3",
      "display_name": "Python 3"
    }
  },
  "cells": [
    {
      "cell_type": "markdown",
      "metadata": {
        "id": "view-in-github",
        "colab_type": "text"
      },
      "source": [
        "<a href=\"https://colab.research.google.com/github/Estrada-John/K-means_ImageCompression_ColorQuantization/blob/master/K_means_ImageCompression.ipynb\" target=\"_parent\"><img src=\"https://colab.research.google.com/assets/colab-badge.svg\" alt=\"Open In Colab\"/></a>"
      ]
    },
    {
      "cell_type": "markdown",
      "metadata": {
        "id": "M0Vx5hOYptnq",
        "colab_type": "text"
      },
      "source": [
        "# <center>ECE 49500/59500 Machine Learning</center>\n",
        "### <center>Sping 2020 </center> \n",
        "## <center>K_Means Image Compression</center> "
      ]
    },
    {
      "cell_type": "code",
      "metadata": {
        "id": "DBfbv_Ngj7Mo",
        "colab_type": "code",
        "colab": {}
      },
      "source": [
        "# Libraries\n",
        "from PIL import Image\n",
        "import numpy as np"
      ],
      "execution_count": 0,
      "outputs": []
    },
    {
      "cell_type": "markdown",
      "metadata": {
        "id": "IiQbkNmrpoVD",
        "colab_type": "text"
      },
      "source": [
        "### Data Upload\n",
        "Picture store it in a 3D array"
      ]
    },
    {
      "cell_type": "code",
      "metadata": {
        "id": "H-8tINY9pcb3",
        "colab_type": "code",
        "outputId": "04936cd3-c678-4cae-be7a-b76a4dae159e",
        "colab": {
          "base_uri": "https://localhost:8080/",
          "height": 105
        }
      },
      "source": [
        "from google.colab import drive \n",
        "drive.mount('/content/gdrive')\n",
        "\n",
        "im = np.array(Image.open('gdrive/My Drive/Colab Notebooks/Machine Learning/k_means_parrot.jpg'))\n",
        "\n",
        "print('Data Type: ', im.dtype)\n",
        "print(\"Array Dimension: \", im.ndim)\n",
        "print('Array Size: ', im.shape)"
      ],
      "execution_count": 2,
      "outputs": [
        {
          "output_type": "stream",
          "text": [
            "Drive already mounted at /content/gdrive; to attempt to forcibly remount, call drive.mount(\"/content/gdrive\", force_remount=True).\n",
            "Data Type:  uint8\n",
            "Array Dimension:  3\n",
            "Array Size:  (400, 500, 3)\n"
          ],
          "name": "stdout"
        }
      ]
    },
    {
      "cell_type": "markdown",
      "metadata": {
        "id": "HxgUSUeWbt4T",
        "colab_type": "text"
      },
      "source": [
        "### Initialize Centroids\n",
        "function: initCentroids \n",
        "\n",
        "Take the the picture previously save it in a 3D array an the K number of clusters\n",
        "\n",
        ">Parameters:\n",
        "1. img: 3D Array\n",
        "2. clusters: int\n",
        "\n",
        ">Return:\n",
        "1. Image in a 2D array with size (l * m, n)\n",
        "2. Initial K Random clusters from 2D array \n",
        " \n",
        "Notes:\n",
        "\n",
        "- clusters is the number of colors that we choose.\n",
        "\n",
        "- Transform 3D array in 2D\n",
        "> - In the general case of a (l, m, n) ndarray: \n",
        "> - numpy.reshape(a, (l*m, n)) should be used."
      ]
    },
    {
      "cell_type": "code",
      "metadata": {
        "id": "iVxUh89tp0-4",
        "colab_type": "code",
        "colab": {}
      },
      "source": [
        "def initCentroids(img, clusters): \n",
        "    # Reshaping 3D matrix to a 2d matrix \n",
        "    matrix2D = np.reshape(img, (img.shape[0] * img.shape[1], img.shape[2]))  \n",
        "    m, n = matrix2D.shape \n",
        "\n",
        "    # Calculating centroids as a means variable  \n",
        "    means = np.zeros((clusters, n))  \n",
        "    # Random initialization of means. \n",
        "    for i in range(clusters): \n",
        "        # Multiplication randon factor 10 & 8\n",
        "        # Do not get repeated numbers \n",
        "        rand1 = int(np.random.random(1)*10) \n",
        "        rand2 = int(np.random.random(1)*8) \n",
        "        means[i, 0] = matrix2D[rand1, 0] \n",
        "        means[i, 1] = matrix2D[rand2, 1] \n",
        "    return matrix2D, means "
      ],
      "execution_count": 0,
      "outputs": []
    },
    {
      "cell_type": "markdown",
      "metadata": {
        "id": "HwKL3HThuFl4",
        "colab_type": "text"
      },
      "source": [
        "### Finding Closest Centroids\n",
        "function: closest Centroids\n",
        "\n",
        "Finding closest centroids by calculate the distance between the initial clusters points and every other new dpoint\n",
        "\n",
        ">Parameters:\n",
        "1. img: 3D image arrayArray\n",
        "2. clusters: k int number of clusters\n",
        "\n",
        ">Return:\n",
        "1. Image in a 2D array with size (l * m, n)\n",
        "2. Initial K Random clusters from 2D array \n",
        " \n",
        "Notes:\n",
        "\n",
        "- clusters is the number of colors that we choose.\n",
        "\n",
        "- Transform 3D array in 2D array\n",
        "> - In the general case of a (l, m, n) ndarray: \n",
        "> - numpy.reshape(a, (l*m, n)) should be used.\n",
        "\n",
        "Buil-in numpy libraries that I used:\n",
        "\n",
        "linalg\n",
        "\n",
        "https://hadrienj.github.io/posts/Deep-Learning-Book-Series-2.5-Norms/\n",
        "https://www.educative.io/edpresso/what-is-the-nplinalgnorm-method-in-numpy\n",
        "\n",
        "np.argmin\n",
        "\n",
        "https://www.geeksforgeeks.org/numpy-argmin-python/"
      ]
    },
    {
      "cell_type": "code",
      "metadata": {
        "id": "c1JXYIK8pmeX",
        "colab_type": "code",
        "colab": {}
      },
      "source": [
        "def closestCentroids(img, centroids):\n",
        "    m = len(img)\n",
        "    # Create an array with number of total rows (m)\n",
        "    indexCentroid = np.zeros(m)\n",
        "    for i in range(m):\n",
        "        # Find eucl. distances for each element in X[i] - centroids[i]\n",
        "        distances = np.linalg.norm(img[i] - centroids, axis=1)\n",
        "        # Assign closest cluster to c[i]\n",
        "        indexCentroid[i] = np.argmin(distances)\n",
        "    return indexCentroid"
      ],
      "execution_count": 0,
      "outputs": []
    },
    {
      "cell_type": "markdown",
      "metadata": {
        "id": "q83bvy0rdZLV",
        "colab_type": "text"
      },
      "source": [
        "### K means algorith\n",
        "function: computeMeans\n",
        "\n",
        "Calculate distance respectively to each sample with the updated centroid values and taking the average\n",
        "\n",
        ">Parameters:\n",
        "1. img: 2D image array\n",
        "2. Index of the closest centroid of each sample \n",
        "3. clusters: k int number of clusters\n",
        "\n",
        ">Return:\n",
        "1. An array with centroid values of size (k, 3)\n",
        "\n",
        "### Finding k means\n",
        "function: findKmeans\n",
        "\n",
        "Executing closestCentroid and compyte means until converge. This should take between 10 and 20 iterations. Run algorithm for a maximum number of iterations, or loop can be stopped when the locations of the means are no longer changing by a significant amount.\n",
        "\n",
        ">Parameters:\n",
        "1. img: 2D image array\n",
        "2. clusters: k int number of clusters\n",
        "3. max_iters = Int number of iterations \n",
        "\n",
        ">Return:\n",
        "1. Return and array with the k number of colors centroid that belongs to the picture\n",
        "2. Return the index"
      ]
    },
    {
      "cell_type": "code",
      "metadata": {
        "id": "nsTPo48LIPZZ",
        "colab_type": "code",
        "colab": {}
      },
      "source": [
        "def computeMeans(img, indexCentroid, clusters):\n",
        "    _, n = img.shape\n",
        "    centroids = np.zeros((clusters, n))\n",
        "    for k in range(clusters):\n",
        "        examples = img[np.where(indexCentroid == k)]\n",
        "        mean = [np.mean(column) for column in examples.T]\n",
        "        centroids[k] = mean\n",
        "    return centroids\n",
        "\n",
        "def findKmeans(img, centroids, clusters, max_iters=10):\n",
        "    #x, centroids = initCentroids(img, clusters)\n",
        "    previous_centroids = centroids\n",
        "    for _ in range(max_iters):\n",
        "        indexCentroid = closestCentroids(img, centroids)\n",
        "        centroids = computeMeans(img, indexCentroid, clusters)\n",
        "        if (centroids == previous_centroids).all():\n",
        "            # The centroids aren't moving anymore.\n",
        "            return centroids\n",
        "        else:\n",
        "            previous_centroids = centroids\n",
        "\n",
        "    return centroids, indexCentroid"
      ],
      "execution_count": 0,
      "outputs": []
    },
    {
      "cell_type": "markdown",
      "metadata": {
        "id": "UzcYzMKuwM0v",
        "colab_type": "text"
      },
      "source": [
        "### Implementing Definitions "
      ]
    },
    {
      "cell_type": "code",
      "metadata": {
        "id": "vWWLGtTQIFnq",
        "colab_type": "code",
        "outputId": "5b170e1f-c49e-4637-8c6b-6b87de1ea59e",
        "colab": {
          "base_uri": "https://localhost:8080/",
          "height": 51
        }
      },
      "source": [
        "# Using getCentroids\n",
        "im2D, centroids = initCentroids(im, 4)\n",
        "print('Shape of img in 2D', im2D.shape)\n",
        "print('Shape of centroids', centroids.shape)"
      ],
      "execution_count": 6,
      "outputs": [
        {
          "output_type": "stream",
          "text": [
            "Shape of img in 2D (200000, 3)\n",
            "Shape of centroids (4, 3)\n"
          ],
          "name": "stdout"
        }
      ]
    },
    {
      "cell_type": "code",
      "metadata": {
        "id": "zPUZDkKcINhp",
        "colab_type": "code",
        "colab": {}
      },
      "source": [
        "colors, test = findKmeans(im2D, centroids, 4)\n",
        "idx = closestCentroids(im2D, colors)"
      ],
      "execution_count": 0,
      "outputs": []
    },
    {
      "cell_type": "markdown",
      "metadata": {
        "id": "4zhI2XQqwWAw",
        "colab_type": "text"
      },
      "source": [
        "### Reconstruction of image"
      ]
    },
    {
      "cell_type": "code",
      "metadata": {
        "id": "ECuWwFAMKP67",
        "colab_type": "code",
        "colab": {}
      },
      "source": [
        "idx = np.array(idx, dtype=np.uint8)\n",
        "X_reconstructed = np.array(colors[idx, :] * 255, dtype=np.uint8).reshape((im.shape[0], im.shape[1], im.shape[2]))\n",
        "compressed_image = Image.fromarray(X_reconstructed)"
      ],
      "execution_count": 0,
      "outputs": []
    },
    {
      "cell_type": "code",
      "metadata": {
        "id": "fvAxb3iTMT2E",
        "colab_type": "code",
        "outputId": "7ae3d2db-7136-4ce8-d590-f767f5caaff8",
        "colab": {
          "base_uri": "https://localhost:8080/",
          "height": 417
        }
      },
      "source": [
        "compressed_image"
      ],
      "execution_count": 19,
      "outputs": [
        {
          "output_type": "execute_result",
          "data": {
            "image/png": "[encoded data removed]",
            "text/plain": [
              "<PIL.Image.Image image mode=RGB size=500x400 at 0x7FC19F1135C0>"
            ]
          },
          "metadata": {
            "tags": []
          },
          "execution_count": 19
        }
      ]
    },
    {
      "cell_type": "code",
      "metadata": {
        "id": "b9Q6inY8Q1WL",
        "colab_type": "code",
        "colab": {}
      },
      "source": [
        "compressed_image.save('gdrive/My Drive/Colab Notebooks/Machine Learning/k-means_parrot_out.jpg')"
      ],
      "execution_count": 0,
      "outputs": []
    },
    {
      "cell_type": "markdown",
      "metadata": {
        "id": "oo_fuRoE1iF2",
        "colab_type": "text"
      },
      "source": [
        "### Compress Ratio\n",
        "\n",
        "Original Image = 63 KB\n",
        "\n",
        "Compress Image = 35 KB\n",
        "\n",
        "Data compression ratio is defined as the ratio between the uncompressed size and compressed size:\n",
        "\n",
        "- Compress Ratio = Uncompressed Size / Compressed Size\n",
        "\n"
      ]
    },
    {
      "cell_type": "code",
      "metadata": {
        "id": "cfb2Mbp71x_g",
        "colab_type": "code",
        "colab": {
          "base_uri": "https://localhost:8080/",
          "height": 51
        },
        "outputId": "d980ed3e-bccb-4089-8625-c153b2f4fa97"
      },
      "source": [
        "compressRatio = 63000 / 35000\n",
        "print('Compress ratio: ', compressRatio, '\\nRatio of 1.8 : 1')"
      ],
      "execution_count": 27,
      "outputs": [
        {
          "output_type": "stream",
          "text": [
            "Compress ratio:  1.8 \n",
            "Ratio of 1.8 : 1\n"
          ],
          "name": "stdout"
        }
      ]
    },
    {
      "cell_type": "markdown",
      "metadata": {
        "id": "MygAgUix2wES",
        "colab_type": "text"
      },
      "source": [
        "### Summary\n",
        "\n",
        "The image compression method using KNN is a intuitive way of understanding unsupervised learning. I create definitions to create the algoritm and I use numpy array to manipulate the pixels. Even though, it seems that the centroids are not updating when I am using the findKmeans functions. Overall, I understand how is the process of image compression and how K_means works. For futuro work I will try to use pandas to manipulate the array."
      ]
    }
  ]
}